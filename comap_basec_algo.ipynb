{
 "cells": [
  {
   "cell_type": "code",
   "execution_count": 13,
   "id": "c50deeaa-c9db-4456-84f3-ccdbd54b7866",
   "metadata": {},
   "outputs": [
    {
     "name": "stdout",
     "output_type": "stream",
     "text": [
      "Unsorted array: [7, 2, 4, 8, 3]\n",
      "Sorted array: [2, 3, 4, 7, 8]\n"
     ]
    }
   ],
   "source": [
    "def insertion_sort(array):\n",
    "    # Traverse from the second element to the last\n",
    "    for i in range(1, len(array)):\n",
    "        key = array[i]  # Current element to be positioned\n",
    "        j = i - 1  # Index of the last element in the sorted portion\n",
    "\n",
    "        # Move elements of the sorted portion that are greater than key\n",
    "        while j >= 0 and array[j] > key:\n",
    "            array[j + 1] = array[j]  # Shift element one position to the right\n",
    "            j -= 1  # Move to the previous element\n",
    "\n",
    "        # Place the key in its correct position\n",
    "        array[j + 1] = key\n",
    "\n",
    "    return array\n",
    "\n",
    "# Example usage\n",
    "data = [7, 2, 4, 8, 3]\n",
    "print(\"Unsorted array:\", data)\n",
    "sorted_data = insertion_sort(data)\n",
    "print(\"Sorted array:\", sorted_data)\n"
   ]
  },
  {
   "cell_type": "code",
   "execution_count": 3,
   "id": "14a28fc6",
   "metadata": {},
   "outputs": [
    {
     "name": "stdout",
     "output_type": "stream",
     "text": [
      "Original array: [64, 25, 12, 22, 11]\n",
      "Sorted array: [11, 12, 22, 25, 64]\n"
     ]
    }
   ],
   "source": [
    "def selection_sort(arr):\n",
    "    n = len(arr)\n",
    "    for i in range(n - 1):\n",
    "        # Find the minimum element in the unsorted part\n",
    "        min_index = i\n",
    "        for j in range(i + 1, n):\n",
    "            if arr[j] < arr[min_index]:\n",
    "                min_index = j\n",
    "        \n",
    "        # Swap the found minimum element with the first element of the unsorted part\n",
    "        arr[i], arr[min_index] = arr[min_index], arr[i]\n",
    "\n",
    "# Example usage\n",
    "arr = [64, 25, 12, 22, 11]\n",
    "print(\"Original array:\", arr)\n",
    "selection_sort(arr)\n",
    "print(\"Sorted array:\", arr)\n"
   ]
  },
  {
   "cell_type": "code",
   "execution_count": 4,
   "id": "365a6bdb",
   "metadata": {},
   "outputs": [
    {
     "name": "stdout",
     "output_type": "stream",
     "text": [
      "Original array: [64, 34, 25, 12, 22, 11, 90]\n",
      "Sorted array: [11, 12, 22, 25, 34, 64, 90]\n"
     ]
    }
   ],
   "source": [
    "def bubble_sort(arr):\n",
    "    n = len(arr)\n",
    "    # Traverse through all array elements\n",
    "    for i in range(n - 1):\n",
    "        # Last i elements are already sorted\n",
    "        for j in range(n - i - 1):\n",
    "            # Swap if the element found is greater than the next element\n",
    "            if arr[j] > arr[j + 1]:\n",
    "                arr[j], arr[j + 1] = arr[j + 1], arr[j]\n",
    "\n",
    "# Example usage\n",
    "arr = [64, 34, 25, 12, 22, 11, 90]\n",
    "print(\"Original array:\", arr)\n",
    "bubble_sort(arr)\n",
    "print(\"Sorted array:\", arr)\n"
   ]
  }
 ],
 "metadata": {
  "kernelspec": {
   "display_name": "Python 3 (ipykernel)",
   "language": "python",
   "name": "python3"
  },
  "language_info": {
   "codemirror_mode": {
    "name": "ipython",
    "version": 3
   },
   "file_extension": ".py",
   "mimetype": "text/x-python",
   "name": "python",
   "nbconvert_exporter": "python",
   "pygments_lexer": "ipython3",
   "version": "3.12.4"
  }
 },
 "nbformat": 4,
 "nbformat_minor": 5
}
