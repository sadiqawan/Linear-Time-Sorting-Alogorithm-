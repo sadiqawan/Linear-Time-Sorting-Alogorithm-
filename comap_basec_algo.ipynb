{
 "cells": [
  {
   "cell_type": "code",
   "execution_count": 13,
   "id": "c50deeaa-c9db-4456-84f3-ccdbd54b7866",
   "metadata": {},
   "outputs": [
    {
     "name": "stdout",
     "output_type": "stream",
     "text": [
      "Unsorted array: [7, 2, 4, 8, 3]\n",
      "Sorted array: [2, 3, 4, 7, 8]\n"
     ]
    }
   ],
   "source": [
    "def insertion_sort(array):\n",
    "    # Traverse from the second element to the last\n",
    "    for i in range(1, len(array)):\n",
    "        key = array[i]  # Current element to be positioned\n",
    "        j = i - 1  # Index of the last element in the sorted portion\n",
    "\n",
    "        # Move elements of the sorted portion that are greater than key\n",
    "        while j >= 0 and array[j] > key:\n",
    "            array[j + 1] = array[j]  # Shift element one position to the right\n",
    "            j -= 1  # Move to the previous element\n",
    "\n",
    "        # Place the key in its correct position\n",
    "        array[j + 1] = key\n",
    "\n",
    "    return array\n",
    "\n",
    "# Example usage\n",
    "data = [7, 2, 4, 8, 3]\n",
    "print(\"Unsorted array:\", data)\n",
    "sorted_data = insertion_sort(data)\n",
    "print(\"Sorted array:\", sorted_data)\n"
   ]
  },
  {
   "cell_type": "code",
   "execution_count": null,
   "id": "978492ae-ce45-4008-b6dc-a4a8a1776f84",
   "metadata": {},
   "outputs": [],
   "source": []
  }
 ],
 "metadata": {
  "kernelspec": {
   "display_name": "Python 3 (ipykernel)",
   "language": "python",
   "name": "python3"
  },
  "language_info": {
   "codemirror_mode": {
    "name": "ipython",
    "version": 3
   },
   "file_extension": ".py",
   "mimetype": "text/x-python",
   "name": "python",
   "nbconvert_exporter": "python",
   "pygments_lexer": "ipython3",
   "version": "3.12.4"
  }
 },
 "nbformat": 4,
 "nbformat_minor": 5
}
