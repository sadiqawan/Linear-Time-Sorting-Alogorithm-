{
 "cells": [
  {
   "cell_type": "code",
   "execution_count": 13,
   "id": "bf2211a0-98e2-469d-937b-396d0c26f52a",
   "metadata": {},
   "outputs": [
    {
     "name": "stdout",
     "output_type": "stream",
     "text": [
      "Out put\n",
      "Original array: [4, 2, 2, 8, 3, 3, 1]\n",
      "Sorted array: [1, 2, 2, 3, 3, 4, 8]\n"
     ]
    }
   ],
   "source": [
    "# Counting Sort Implementation\n",
    "def counting_sort(arr):\n",
    "    # Step 1: Find the maximum element\n",
    "    max_val = max(arr)\n",
    "    \n",
    "    # Step 2: Initialize the count array\n",
    "    count = [0] * (max_val + 1)\n",
    "\n",
    "    # Step 3: Count the occurrences\n",
    "    for num in arr:\n",
    "        count[num] += 1\n",
    "\n",
    "    # Step 4: Modify the count array to store cumulative counts\n",
    "    for i in range(1, len(count)):\n",
    "        count[i] += count[i - 1]\n",
    "\n",
    "    # Step 5: Sort the elements\n",
    "    output = [0] * len(arr)\n",
    "    for num in reversed(arr):\n",
    "        output[count[num] - 1] = num\n",
    "        count[num] -= 1\n",
    "\n",
    "    return output\n",
    "\n",
    "# Example usage\n",
    "arr = [4, 2, 2, 8, 3, 3, 1]\n",
    "print('Out put')\n",
    "print(\"Original array:\", arr)\n",
    "sorted_arr = counting_sort(arr)\n",
    "print(\"Sorted array:\", sorted_arr)\n"
   ]
  },
  {
   "cell_type": "code",
   "execution_count": null,
   "id": "4731a5c7",
   "metadata": {},
   "outputs": [],
   "source": [
    "# Radix Sort Implementation\n",
    "def counting_sort_for_radix(arr, exp):\n",
    "    n = len(arr)\n",
    "    output = [0] * n\n",
    "    count = [0] * 10\n",
    "\n",
    "    for num in arr:\n",
    "        index = (num // exp) % 10\n",
    "        count[index] += 1\n",
    "\n",
    "    for i in range(1, 10):\n",
    "        count[i] += count[i - 1]\n",
    "\n",
    "    for i in reversed(range(n)):\n",
    "        num = arr[i]\n",
    "        index = (num // exp) % 10\n",
    "        output[count[index] - 1] = num\n",
    "        count[index] -= 1\n",
    "\n",
    "    for i in range(n):\n",
    "        arr[i] = output[i]\n",
    "\n",
    "\n",
    "def radix_sort(arr):\n",
    "    max_val = max(arr)\n",
    "    exp = 1\n",
    "    while max_val // exp > 0:\n",
    "        counting_sort_for_radix(arr, exp)\n",
    "        exp *= 10\n",
    "\n",
    "# Example usage\n",
    "arr = [170, 45, 75, 90, 802, 24, 2, 66]\n",
    "print(\"Original array:\", arr)\n",
    "radix_sort(arr)\n",
    "print(\"Sorted array:\", arr)"
   ]
  },
  {
   "cell_type": "code",
   "execution_count": null,
   "id": "32080016",
   "metadata": {},
   "outputs": [],
   "source": [
    "# Bucket Sort Implementation\n",
    "def bucket_sort(arr):\n",
    "    bucket_count = len(arr)\n",
    "    buckets = [[] for _ in range(bucket_count)]\n",
    "\n",
    "    for num in arr:\n",
    "        index = int(bucket_count * num)\n",
    "        buckets[index].append(num)\n",
    "\n",
    "    for bucket in buckets:\n",
    "        bucket.sort()\n",
    "\n",
    "    result = []\n",
    "    for bucket in buckets:\n",
    "        result.extend(bucket)\n",
    "\n",
    "    return result\n",
    "\n",
    "# Example usage\n",
    "arr = [0.78, 0.17, 0.39, 0.26, 0.72, 0.94, 0.21, 0.12, 0.23, 0.68]\n",
    "print(\"Original array:\", arr)\n",
    "sorted_arr = bucket_sort(arr)\n",
    "print(\"Sorted array:\", sorted_arr)"
   ]
  },
  {
   "cell_type": "code",
   "execution_count": null,
   "id": "08cb0128-f45c-48fa-9f25-ae7e31fe95a9",
   "metadata": {},
   "outputs": [],
   "source": []
  }
 ],
 "metadata": {
  "kernelspec": {
   "display_name": "Python 3 (ipykernel)",
   "language": "python",
   "name": "python3"
  },
  "language_info": {
   "codemirror_mode": {
    "name": "ipython",
    "version": 3
   },
   "file_extension": ".py",
   "mimetype": "text/x-python",
   "name": "python",
   "nbconvert_exporter": "python",
   "pygments_lexer": "ipython3",
   "version": "3.12.4"
  }
 },
 "nbformat": 4,
 "nbformat_minor": 5
}
