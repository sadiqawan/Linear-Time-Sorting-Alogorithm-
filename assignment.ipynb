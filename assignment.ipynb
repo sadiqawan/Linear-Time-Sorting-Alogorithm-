{
 "cells": [
  {
   "cell_type": "code",
   "execution_count": 13,
   "id": "bf2211a0-98e2-469d-937b-396d0c26f52a",
   "metadata": {},
   "outputs": [
    {
     "name": "stdout",
     "output_type": "stream",
     "text": [
      "Out put\n",
      "Original array: [4, 2, 2, 8, 3, 3, 1]\n",
      "Sorted array: [1, 2, 2, 3, 3, 4, 8]\n"
     ]
    }
   ],
   "source": [
    "# Counting Sort Implementation\n",
    "def counting_sort(arr):\n",
    "    # Step 1: Find the maximum element\n",
    "    max_val = max(arr)\n",
    "    \n",
    "    # Step 2: Initialize the count array\n",
    "    count = [0] * (max_val + 1)\n",
    "\n",
    "    # Step 3: Count the occurrences\n",
    "    for num in arr:\n",
    "        count[num] += 1\n",
    "\n",
    "    # Step 4: Modify the count array to store cumulative counts\n",
    "    for i in range(1, len(count)):\n",
    "        count[i] += count[i - 1]\n",
    "\n",
    "    # Step 5: Sort the elements\n",
    "    output = [0] * len(arr)\n",
    "    for num in reversed(arr):\n",
    "        output[count[num] - 1] = num\n",
    "        count[num] -= 1\n",
    "\n",
    "    return output\n",
    "\n",
    "# Example usage\n",
    "arr = [4, 2, 2, 8, 3, 3, 1]\n",
    "print('Out put')\n",
    "print(\"Original array:\", arr)\n",
    "sorted_arr = counting_sort(arr)\n",
    "print(\"Sorted array:\", sorted_arr)\n"
   ]
  },
  {
   "cell_type": "code",
   "execution_count": null,
   "id": "08cb0128-f45c-48fa-9f25-ae7e31fe95a9",
   "metadata": {},
   "outputs": [],
   "source": []
  }
 ],
 "metadata": {
  "kernelspec": {
   "display_name": "Python 3 (ipykernel)",
   "language": "python",
   "name": "python3"
  },
  "language_info": {
   "codemirror_mode": {
    "name": "ipython",
    "version": 3
   },
   "file_extension": ".py",
   "mimetype": "text/x-python",
   "name": "python",
   "nbconvert_exporter": "python",
   "pygments_lexer": "ipython3",
   "version": "3.12.4"
  }
 },
 "nbformat": 4,
 "nbformat_minor": 5
}
